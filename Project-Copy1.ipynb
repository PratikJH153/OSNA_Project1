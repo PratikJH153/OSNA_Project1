{
 "cells": [
  {
   "cell_type": "markdown",
   "id": "cf9fa03b",
   "metadata": {},
   "source": [
    "# OSNA Project 1"
   ]
  },
  {
   "cell_type": "markdown",
   "id": "1007d689",
   "metadata": {},
   "source": [
    "## Team Members:\n",
    "\n",
    "### 1. Shreenidhi - A\n",
    "### 2. Pratik Jadhav - A20543728"
   ]
  },
  {
   "cell_type": "markdown",
   "id": "174b4875",
   "metadata": {},
   "source": [
    "# Part 1\n",
    "\n",
    "### Constructing the graph using only the Nodes interconnected between the Author of the post and the authors of the comments on the post "
   ]
  },
  {
   "cell_type": "markdown",
   "id": "f0cae0d6",
   "metadata": {},
   "source": [
    "**Importing the required libraries**"
   ]
  },
  {
   "cell_type": "code",
   "execution_count": 83,
   "id": "e82dc158",
   "metadata": {},
   "outputs": [],
   "source": [
    "import praw\n",
    "import networkx as nx\n",
    "import pandas as pd\n",
    "import matplotlib.pyplot as plt\n",
    "import numpy as np\n",
    "\n",
    "from pyvis.network import Network"
   ]
  },
  {
   "cell_type": "markdown",
   "id": "05df6cc4",
   "metadata": {},
   "source": [
    "**Initialize the Reddit object and fetching the data for the subreddit \"SocialMedia\"**"
   ]
  },
  {
   "cell_type": "code",
   "execution_count": 84,
   "id": "e478af4d",
   "metadata": {},
   "outputs": [],
   "source": [
    "reddit = praw.Reddit(client_id='hhjRhxhEn6ZNdJJCkUd8TQ',\n",
    "                     client_secret='WKVxcma6auPs8A5ghaj7CWmh2zDAEg',\n",
    "                     username='Either-Two-1843',\n",
    "                     password='Shree_123456',\n",
    "                     user_agent='Project1_OSNA')\n",
    "\n",
    "subreddit = reddit.subreddit('socialmedia')"
   ]
  },
  {
   "cell_type": "markdown",
   "id": "a6664d8f",
   "metadata": {},
   "source": [
    "**Initializing the lists which will get populated with Redditor data**"
   ]
  },
  {
   "cell_type": "code",
   "execution_count": 85,
   "id": "1d46208f",
   "metadata": {},
   "outputs": [],
   "source": [
    "connected_nodes = []\n",
    "authors = []"
   ]
  },
  {
   "cell_type": "markdown",
   "id": "f53c4c5f",
   "metadata": {},
   "source": [
    "**Constructing the function which will add data to the lists**"
   ]
  },
  {
   "cell_type": "code",
   "execution_count": 86,
   "id": "e5275d01",
   "metadata": {},
   "outputs": [],
   "source": [
    "def populating_data(graph, comment, parent_author):\n",
    "    if comment.author is not None:\n",
    "        temp = [parent_author, comment.author]\n",
    "        if comment.author not in authors:\n",
    "            authors.append(comment.author)\n",
    "\n",
    "        connected_nodes.append(temp)"
   ]
  },
  {
   "cell_type": "markdown",
   "id": "0387bebf",
   "metadata": {},
   "source": [
    "**Here, using the NetworkX graph to construct the graph**"
   ]
  },
  {
   "cell_type": "code",
   "execution_count": 87,
   "id": "bcfe90c0",
   "metadata": {},
   "outputs": [],
   "source": [
    "g = nx.Graph()\n",
    "\n",
    "# Fetching the top 50 reddist posts on \"SocialMedia\"\n",
    "posts = subreddit.top(limit=50)"
   ]
  },
  {
   "cell_type": "code",
   "execution_count": 88,
   "id": "f38feef5",
   "metadata": {},
   "outputs": [
    {
     "name": "stdout",
     "output_type": "stream",
     "text": [
      "Author: Felkalin\n",
      "Title: Censorship has gone too far\n",
      "\n",
      "\n",
      "Author: JohnnyFire\n",
      "Title: UPDATE: Kelly Blazek, Cleveland Job Bank Founder who rebuked LinkedIn requests with nasty emails, has lost her IABC Communicator of the Year Award\n",
      "\n",
      "\n",
      "Author: SXSWBot\n",
      "Title: Burger King uses 50cent to promote his new BKCoffee !\n",
      "\n",
      "\n",
      "Author: curveballhomerun\n",
      "Title: Freelance Social Media? Two things I did that my clients loved (you can download them.)\n",
      "\n",
      "\n",
      "Author: froggie5ohhhhh\n",
      "Title: 10 Minute Tweaks To Improve your Social/Digital Media TODAY (on any social platform)\n",
      "\n",
      "\n",
      "Author: SebastianJuhola\n",
      "Title: How I grew an Instagram account from 4000 followers to 190k in a year\n",
      "\n",
      "\n",
      "Author: lazymentors\n",
      "Title: I interviewed 3 Instagram Employees & Studied 2,000+ Posts. Here’s How Instagram algorithm works in 2022!\n",
      "\n",
      "\n",
      "Author: DedicatedSloth\n",
      "Title: I was wrong, Tik Tok isn't all dances, lip syncs, and jokes. It's been a major supportive outlet for dealing with mental health and depression.\n",
      "\n",
      "\n",
      "Author: hinba\n",
      "Title: Reddit surpasses Facebook to become the 3rd most visited site in the US\n",
      "\n",
      "\n",
      "Author: QuantumQuill12\n",
      "Title: I Grew to 100K on Instagram in 30 Days. Observations.\n",
      "\n",
      "\n",
      "Author: zshakked\n",
      "Title: 20 Ideas for Instagram Stories Content\n",
      "\n",
      "\n",
      "Author: None\n",
      "Title: I need your feedback 💬\n",
      "\n",
      "\n",
      "Author: lazymentors\n",
      "Title: I Studied Instagram, Pinterest, LinkedIn & TikTok’s Algorithm, Here’s What I learned!\n",
      "\n",
      "\n",
      "Author: Killzooski\n",
      "Title: Is X dying?\n",
      "\n",
      "\n",
      "Author: ArdrianEmily\n",
      "Title: “If you make customers unhappy in the physical world, they might each tell 6 friends. If you make customers unhappy on the Internet, they can each tell 6,000 friends.” Jeff Bezos, CEO at Amazon.com\n",
      "\n",
      "\n",
      "Author: ZachPaj\n",
      "Title: Facebook has implemented a 'Fact Checker' tool which warns users of fake news\n",
      "\n",
      "\n",
      "Author: lazymentors\n",
      "Title: Social is dead; only media left.\n",
      "\n",
      "\n",
      "Author: JonODonovan\n",
      "Title: All new posts need a flair going forward\n",
      "\n",
      "\n",
      "Author: Kris_Luc\n",
      "Title: Has anyone stopped calling Twitter “Twitter” and referring to it as “X” now?\n",
      "\n",
      "\n",
      "Author: maxthescribbler\n",
      "Title: 8 LinkedIn tactics that really worked for us—and 5 that didn't\n",
      "\n",
      "\n",
      "Author: MassimoOsti\n",
      "Title: Facebook couldn't figure out that Russians spent $100K to spread fake election news but disapproves my ad because it contains a small amount of text\n",
      "\n",
      "\n",
      "Author: TenDeadGoats\n",
      "Title: Bring back chronologically ordered Instagram feeds.\n",
      "\n",
      "\n",
      "Author: None\n",
      "Title: This sub is useless.\n",
      "\n",
      "\n",
      "Author: zshakked\n",
      "Title: I found it really difficult to find good hashtags to use on my Instagram page (19.3k followers) so I built this iPhone app that uses intelligent, algorithmic analysis to find you related hashtags. I think you guys would find it useful.\n",
      "\n",
      "\n",
      "Author: Rugby_Riot\n",
      "Title: Hashtags on FB are dead, 3 minute videos are prioritised, according to senior FB rep\n",
      "\n",
      "\n",
      "Author: BennySkateboard\n",
      "Title: What has just happened to Instagram?\n",
      "\n",
      "\n",
      "Author: zecariocaxbox\n",
      "Title: Instagram is ending the \"like\" system in Canada, Brazil and Australia.\n",
      "\n",
      "\n",
      "Author: zshakked\n",
      "Title: Instagram is preparing to let you add music to your Stories via a \"Music Sticker\" that will let you search for tracks\n",
      "\n",
      "\n",
      "Author: gf11speed\n",
      "Title: [Cool Find] - Alternative to Socialblade for Instagram\n",
      "\n",
      "\n",
      "Author: Mendokusai\n",
      "Title: StumbleUpon Shuts Down After 16 Years\n",
      "\n",
      "\n",
      "Author: RedditBizHelper\n",
      "Title: HOW TO GET INSTAGRAM CONTENT IDEAS FOR YOUR SMALL BUSINESS — TAKE A LOOK EVEN IF YOU DON'T USE IG\n",
      "\n",
      "\n",
      "Author: EuforijaKg\n",
      "Title: Ultimate Instagram Hashtag Guide & Strategy [I've covered EVERYTHING]\n",
      "\n",
      "\n",
      "Author: shekatnew\n",
      "Title: Don't you have the impression LinkedIn is turning a little into Facebook in many ways? Not talking about technicalities like algorithm and such. I mean the very topics posted and the way they are handled..\n",
      "\n",
      "\n",
      "Author: razmig\n",
      "Title: Twitter to stop all political advertising globally... - Jack Dorsey\n",
      "\n",
      "\n",
      "Author: lazymentors\n",
      "Title: I read privacy and policies of Tiktok, IG and Other Platforms. Here’s what I learned about Social Media Platforms!\n",
      "\n",
      "\n",
      "Author: Competitive_Egg4757\n",
      "Title: Small rant\n",
      "\n",
      "\n",
      "Author: intheaterssoon\n",
      "Title: What's the secret to getting verified on instagram?\n",
      "\n",
      "\n",
      "Author: climbonapply24head\n",
      "Title: Facebook and instagram down(30 min and counting) after a morning of a huge release of documents and news stories.\n",
      "\n",
      "\n",
      "Author: joeyoungblood\n",
      "Title: Facebook's Algorithm Is Changing, Here's What That Looks Like Right Now\n",
      "\n",
      "\n",
      "Author: lazymentors\n",
      "Title: Here’s What Happened On Social Media in August 2022 (Marketer’s Edition)\n",
      "\n",
      "\n",
      "Author: roscoepain\n",
      "Title: Social Media is a double-edged sword.\n",
      "\n",
      "\n",
      "Author: suitzup\n",
      "Title: How I got 5000 Followers on Instagram in 2 months!\n",
      "\n",
      "\n",
      "Author: atiqi36\n",
      "Title: 1.38 million Posts analysed - what works on Facebook\n",
      "\n",
      "\n",
      "Author: ZoliroAstro\n",
      "Title: The \"algorithms\" are ruining creativity.\n",
      "\n",
      "\n",
      "Author: lazymentors\n",
      "Title: Here’s What Happened Last Week On Social Media (Marketer’s Edition)\n",
      "\n",
      "\n",
      "Author: talitarhein\n",
      "Title: I hate when brands give up on their websites to use only their Facebook Page as the website\n",
      "\n",
      "\n",
      "Author: Kabinetapp\n",
      "Title: Is being an \"influencer\" played out? I work at a tech startup so we deal with influencers but the quality has dropped in the last few years. I feel as though the whole world is trying to \"influence\" when in reality they have very little to offer in experience or expertise.\n",
      "\n",
      "\n",
      "Author: froggie5ohhhhh\n",
      "Title: HARSH REALITY OF SOCIAL MEDIA (this took me a long time to understand)\n",
      "\n",
      "\n",
      "Author: Yolofreelance\n",
      "Title: The rise of the quizzes: According to some surveys, the average quiz has a 31.6% lead capture rate, and it’s shared nearly 2000 times. That is higher than any other kind of Social Media post.\n",
      "\n",
      "\n",
      "Author: instawithalex\n",
      "Title: I have a following of over 450k on Instagram and made over $160k in revenue this year with the app - AMA\n",
      "\n",
      "\n"
     ]
    }
   ],
   "source": [
    "# Iterating over the posts\n",
    "for post in posts:\n",
    "    print(f\"Author: {post.author}\\nTitle: {post.title}\\n\\n\")\n",
    "    \n",
    "    # Adding a null safety\n",
    "    if post.author is not None:\n",
    "        if post.author not in authors:\n",
    "            authors.append(post.author)\n",
    "\n",
    "    # Iterating over the top comments list\n",
    "    post.comment_limit = 20\n",
    "    for comment in post.comments.list():\n",
    "        # Checking whether the comment is not of type Morecomments to avoid errors\n",
    "        if not type(comment) is praw.models.MoreComments:\n",
    "            populating_data(g, comment, post.author)"
   ]
  },
  {
   "cell_type": "markdown",
   "id": "fe33443c",
   "metadata": {},
   "source": [
    "**We can have a look at the connected nodes**"
   ]
  },
  {
   "cell_type": "code",
   "execution_count": 89,
   "id": "365253c4",
   "metadata": {},
   "outputs": [
    {
     "data": {
      "text/plain": [
       "[[Redditor(name='Felkalin'), Redditor(name='AutoModerator')],\n",
       " [Redditor(name='Felkalin'), Redditor(name='SonofaBranMuffin')],\n",
       " [Redditor(name='Felkalin'), Redditor(name='niooosan')],\n",
       " [Redditor(name='Felkalin'), Redditor(name='lord__cuthbert')],\n",
       " [Redditor(name='Felkalin'), Redditor(name='KosmicKoda')],\n",
       " [Redditor(name='Felkalin'), Redditor(name='ResponsibleSteak4994')],\n",
       " [Redditor(name='Felkalin'), Redditor(name='A55_Cactu5')],\n",
       " [Redditor(name='Felkalin'), Redditor(name='blue_strawberryx')],\n",
       " [Redditor(name='Felkalin'), Redditor(name='IAmBabs')],\n",
       " [Redditor(name='Felkalin'), Redditor(name='LikeALoneRanger')]]"
      ]
     },
     "execution_count": 89,
     "metadata": {},
     "output_type": "execute_result"
    }
   ],
   "source": [
    "connected_nodes[:10]"
   ]
  },
  {
   "cell_type": "code",
   "execution_count": 90,
   "id": "7d47f2b6",
   "metadata": {},
   "outputs": [
    {
     "data": {
      "text/plain": [
       "[Redditor(name='Felkalin'),\n",
       " Redditor(name='AutoModerator'),\n",
       " Redditor(name='SonofaBranMuffin'),\n",
       " Redditor(name='niooosan'),\n",
       " Redditor(name='lord__cuthbert'),\n",
       " Redditor(name='KosmicKoda'),\n",
       " Redditor(name='ResponsibleSteak4994'),\n",
       " Redditor(name='A55_Cactu5'),\n",
       " Redditor(name='blue_strawberryx'),\n",
       " Redditor(name='IAmBabs')]"
      ]
     },
     "execution_count": 90,
     "metadata": {},
     "output_type": "execute_result"
    }
   ],
   "source": [
    "authors[:10]"
   ]
  },
  {
   "cell_type": "markdown",
   "id": "a795cc60",
   "metadata": {},
   "source": [
    "**Let's construct a Dataframe consisting of the Author and Commentor as the data columns**"
   ]
  },
  {
   "cell_type": "code",
   "execution_count": 91,
   "id": "f35ff17f",
   "metadata": {},
   "outputs": [],
   "source": [
    "nodedf = pd.DataFrame(nodes, columns=['Author', 'Commentor']).dropna()"
   ]
  },
  {
   "cell_type": "code",
   "execution_count": 92,
   "id": "b99a8a4b",
   "metadata": {},
   "outputs": [
    {
     "data": {
      "text/html": [
       "<div>\n",
       "<style scoped>\n",
       "    .dataframe tbody tr th:only-of-type {\n",
       "        vertical-align: middle;\n",
       "    }\n",
       "\n",
       "    .dataframe tbody tr th {\n",
       "        vertical-align: top;\n",
       "    }\n",
       "\n",
       "    .dataframe thead th {\n",
       "        text-align: right;\n",
       "    }\n",
       "</style>\n",
       "<table border=\"1\" class=\"dataframe\">\n",
       "  <thead>\n",
       "    <tr style=\"text-align: right;\">\n",
       "      <th></th>\n",
       "      <th>Author</th>\n",
       "      <th>Commentor</th>\n",
       "    </tr>\n",
       "  </thead>\n",
       "  <tbody>\n",
       "    <tr>\n",
       "      <th>0</th>\n",
       "      <td>Felkalin</td>\n",
       "      <td>AutoModerator</td>\n",
       "    </tr>\n",
       "    <tr>\n",
       "      <th>1</th>\n",
       "      <td>Felkalin</td>\n",
       "      <td>SonofaBranMuffin</td>\n",
       "    </tr>\n",
       "    <tr>\n",
       "      <th>2</th>\n",
       "      <td>Felkalin</td>\n",
       "      <td>niooosan</td>\n",
       "    </tr>\n",
       "    <tr>\n",
       "      <th>3</th>\n",
       "      <td>Felkalin</td>\n",
       "      <td>lord__cuthbert</td>\n",
       "    </tr>\n",
       "    <tr>\n",
       "      <th>4</th>\n",
       "      <td>Felkalin</td>\n",
       "      <td>KosmicKoda</td>\n",
       "    </tr>\n",
       "  </tbody>\n",
       "</table>\n",
       "</div>"
      ],
      "text/plain": [
       "     Author         Commentor\n",
       "0  Felkalin     AutoModerator\n",
       "1  Felkalin  SonofaBranMuffin\n",
       "2  Felkalin          niooosan\n",
       "3  Felkalin    lord__cuthbert\n",
       "4  Felkalin        KosmicKoda"
      ]
     },
     "execution_count": 92,
     "metadata": {},
     "output_type": "execute_result"
    }
   ],
   "source": [
    "nodedf.head()"
   ]
  },
  {
   "cell_type": "markdown",
   "id": "82e4448d",
   "metadata": {},
   "source": [
    "**Generating the graph using dataframe**"
   ]
  },
  {
   "cell_type": "code",
   "execution_count": 93,
   "id": "4130b5fb",
   "metadata": {},
   "outputs": [],
   "source": [
    "graph = nx.from_pandas_edgelist(nodedf, source=\"Author\", target=\"Commentor\")"
   ]
  },
  {
   "cell_type": "code",
   "execution_count": 94,
   "id": "a6419a63",
   "metadata": {},
   "outputs": [
    {
     "data": {
      "text/plain": [
       "<networkx.classes.graph.Graph at 0x168411d90>"
      ]
     },
     "execution_count": 94,
     "metadata": {},
     "output_type": "execute_result"
    }
   ],
   "source": [
    "graph"
   ]
  },
  {
   "cell_type": "markdown",
   "id": "bc274338",
   "metadata": {},
   "source": [
    "**Printing the total number of nodes and the edges between them**"
   ]
  },
  {
   "cell_type": "code",
   "execution_count": 95,
   "id": "a7e29136",
   "metadata": {},
   "outputs": [
    {
     "name": "stdout",
     "output_type": "stream",
     "text": [
      "Nodes: 591\n",
      "Edges: 626\n"
     ]
    }
   ],
   "source": [
    "print(f\"Nodes: {len(graph.nodes())}\\nEdges: {len(graph.edges())}\")"
   ]
  },
  {
   "cell_type": "markdown",
   "id": "463858fc",
   "metadata": {},
   "source": [
    "**Displaying the graph using Pyvis**"
   ]
  },
  {
   "cell_type": "code",
   "execution_count": 96,
   "id": "e9ecb444",
   "metadata": {},
   "outputs": [
    {
     "name": "stdout",
     "output_type": "stream",
     "text": [
      "Warning: When  cdn_resources is 'local' jupyter notebook has issues displaying graphics on chrome/safari. Use cdn_resources='in_line' or cdn_resources='remote' if you have issues viewing graphics in a notebook.\n",
      "pyvis_network.html\n"
     ]
    },
    {
     "data": {
      "text/html": [
       "\n",
       "        <iframe\n",
       "            width=\"100%\"\n",
       "            height=\"750px\"\n",
       "            src=\"pyvis_network.html\"\n",
       "            frameborder=\"0\"\n",
       "            allowfullscreen\n",
       "            \n",
       "        ></iframe>\n",
       "        "
      ],
      "text/plain": [
       "<IPython.lib.display.IFrame at 0x14fea0d50>"
      ]
     },
     "execution_count": 96,
     "metadata": {},
     "output_type": "execute_result"
    }
   ],
   "source": [
    "g_pyvis = Network(height=\"750px\", width=\"100%\", bgcolor=\"#222222\", font_color=\"white\", notebook=True, cdn_resources='in_line')\n",
    "\n",
    "for node in graph_api.nodes():\n",
    "    g_pyvis.add_node(str(node))\n",
    "\n",
    "for edge in graph_api.edges():\n",
    "    g_pyvis.add_edge(str(edge[0]), str(edge[1]))\n",
    "\n",
    "g_pyvis.show(\"pyvis_network.html\")"
   ]
  },
  {
   "cell_type": "markdown",
   "id": "28cdf12a",
   "metadata": {},
   "source": [
    "**Representing the degree distribution histogram**"
   ]
  },
  {
   "cell_type": "code",
   "execution_count": 108,
   "id": "a1329ed5",
   "metadata": {},
   "outputs": [
    {
     "data": {
      "image/png": "[encoded data removed]",
      "text/plain": [
       "<Figure size 640x480 with 1 Axes>"
      ]
     },
     "metadata": {},
     "output_type": "display_data"
    }
   ],
   "source": [
    "degree = [d for _, d in graph_api.degree()]\n",
    "degree_histogram = nx.degree_histogram(graph_api)\n",
    "\n",
    "plt.hist(degree, bins=50)\n",
    "plt.xlabel(\"Degree\")\n",
    "plt.ylabel(\"Frequency\")\n",
    "plt.title(\"Degree Distribution Histogram\")\n",
    "plt.show()"
   ]
  },
  {
   "cell_type": "markdown",
   "id": "1d25c7e5",
   "metadata": {},
   "source": [
    "**Calculating the Clustering coefficient by calculating the average of the nodes in the graph**"
   ]
  },
  {
   "cell_type": "code",
   "execution_count": 98,
   "id": "30ab0ff0",
   "metadata": {},
   "outputs": [
    {
     "name": "stdout",
     "output_type": "stream",
     "text": [
      "Clustering Coefficient: 0.0\n"
     ]
    }
   ],
   "source": [
    "average_clustering = nx.average_clustering(graph_api)\n",
    "print(f\"Clustering Coefficient: {average_clustering}\")"
   ]
  },
  {
   "cell_type": "markdown",
   "id": "b50ffa98",
   "metadata": {},
   "source": [
    "**Displaying the closness centrality from the graph**"
   ]
  },
  {
   "cell_type": "code",
   "execution_count": 99,
   "id": "75102adf",
   "metadata": {},
   "outputs": [
    {
     "data": {
      "image/png": "[encoded data removed]",
      "text/plain": [
       "<Figure size 640x480 with 1 Axes>"
      ]
     },
     "metadata": {},
     "output_type": "display_data"
    }
   ],
   "source": [
    "closeness_centrality = nx.closeness_centrality(graph_api)\n",
    "\n",
    "plt.hist(list(closeness_centrality.values()), bins=20)\n",
    "plt.xlabel('Closeness Centrality Values')\n",
    "plt.ylabel('Frequency')\n",
    "plt.title('Closeness Centrality Distribution')\n",
    "plt.show()"
   ]
  },
  {
   "cell_type": "markdown",
   "id": "a28c575c",
   "metadata": {},
   "source": [
    "**Let's calculate the average and the median of the Closeness Centrality**"
   ]
  },
  {
   "cell_type": "code",
   "execution_count": 110,
   "id": "e72f0b8c",
   "metadata": {},
   "outputs": [
    {
     "name": "stdout",
     "output_type": "stream",
     "text": [
      "Average Closeness Centrality: 0.11868731223795102\n",
      "Median Closeness Centrality: 0.14357157100128187\n"
     ]
    }
   ],
   "source": [
    "average_closeness_centrality = np.mean(list(closeness_centrality.values()))\n",
    "median_closeness_centrality = np.median(list(closeness_centrality.values()))\n",
    "print(f\"Average Closeness Centrality: {average_closeness_centrality}\")\n",
    "print(f\"Median Closeness Centrality: {median_closeness_centrality}\")"
   ]
  },
  {
   "cell_type": "markdown",
   "id": "5ef18071",
   "metadata": {},
   "source": [
    "**Displaying an Histogram of the Degree centrality of the nodes connected with the edges**"
   ]
  },
  {
   "cell_type": "code",
   "execution_count": 101,
   "id": "c04e3b1f",
   "metadata": {},
   "outputs": [
    {
     "data": {
      "image/png": "[encoded data removed]",
      "text/plain": [
       "<Figure size 640x480 with 1 Axes>"
      ]
     },
     "metadata": {},
     "output_type": "display_data"
    }
   ],
   "source": [
    "degree_centrality = nx.degree_centrality(graph_api)\n",
    "\n",
    "plt.hist(list(degree_centrality.values()), bins=20)\n",
    "plt.xlabel('Degree Centrality')\n",
    "plt.ylabel('Frequency')\n",
    "plt.title('Degree Centrality Measure Histogram')\n",
    "plt.show()"
   ]
  },
  {
   "cell_type": "markdown",
   "id": "94eb5dc2",
   "metadata": {},
   "source": [
    "**Let's calculate the average and the median of the Degree Centrality**"
   ]
  },
  {
   "cell_type": "code",
   "execution_count": 102,
   "id": "6a863da0",
   "metadata": {},
   "outputs": [
    {
     "name": "stdout",
     "output_type": "stream",
     "text": [
      "Average Degree Centrality: 0.0035905818922251855\n",
      "Median Degree Centrality: 0.001694915254237288\n"
     ]
    }
   ],
   "source": [
    "average_degree_centrality = np.mean(list(degree_centrality.values()))\n",
    "median_degree_centrality = np.median(list(degree_centrality.values()))\n",
    "\n",
    "print(f\"Average Degree Centrality: {average_degree_centrality}\")\n",
    "print(f\"Median Degree Centrality: {median_degree_centrality}\")"
   ]
  },
  {
   "cell_type": "markdown",
   "id": "8de2fc91",
   "metadata": {},
   "source": [
    "**Displaying an Histogram of the Betweenness centrality of the nodes connected with the edges**"
   ]
  },
  {
   "cell_type": "code",
   "execution_count": 103,
   "id": "e5f7a94d",
   "metadata": {},
   "outputs": [
    {
     "data": {
      "image/png": "[encoded data removed]",
      "text/plain": [
       "<Figure size 640x480 with 1 Axes>"
      ]
     },
     "metadata": {},
     "output_type": "display_data"
    }
   ],
   "source": [
    "betweenness_centrality = nx.betweenness_centrality(graph_api)\n",
    "\n",
    "plt.hist(list(betweenness_centrality.values()), bins=20)\n",
    "plt.xlabel(\"Betweenness Centrality\")\n",
    "plt.ylabel(\"Frequency\")\n",
    "plt.title(\"Betweenness Centrality Histogram\")\n",
    "plt.show()"
   ]
  },
  {
   "cell_type": "markdown",
   "id": "c449e809",
   "metadata": {},
   "source": [
    "**Let's calculate the average and the median of the Betweenness Centrality**"
   ]
  },
  {
   "cell_type": "code",
   "execution_count": 111,
   "id": "9d9f3dc2",
   "metadata": {},
   "outputs": [
    {
     "name": "stdout",
     "output_type": "stream",
     "text": [
      "Average Betweenness Centrality: 0.006613080703078771\n",
      "Median Betweenness Centrality: 0.0\n"
     ]
    }
   ],
   "source": [
    "average_betweenness_centrality = np.mean(list(betweenness_centrality.values()))\n",
    "median_betweenness_centrality = np.median(list(betweenness_centrality.values()))\n",
    "print(f\"Average Betweenness Centrality: {average_betweenness_centrality}\")\n",
    "print(f\"Median Betweenness Centrality: {median_betweenness_centrality}\")"
   ]
  },
  {
   "cell_type": "markdown",
   "id": "87aee054",
   "metadata": {},
   "source": [
    "**Displaying an Histogram of the Katz Centrality among the nodes in the graph**"
   ]
  },
  {
   "cell_type": "code",
   "execution_count": 105,
   "id": "2ced07bf",
   "metadata": {},
   "outputs": [
    {
     "data": {
      "image/png": "[encoded data removed]",
      "text/plain": [
       "<Figure size 640x480 with 1 Axes>"
      ]
     },
     "metadata": {},
     "output_type": "display_data"
    }
   ],
   "source": [
    "katz_centrality = nx.katz_centrality(graph_api)\n",
    "katz_values = list(katz_centrality.values())\n",
    "\n",
    "plt.hist(katz_values, bins=20)\n",
    "plt.xlabel(\"Katz Centrality\")\n",
    "plt.ylabel(\"Frequency\")\n",
    "plt.title(\"Katz Centrality Histogram\")\n",
    "plt.show()"
   ]
  },
  {
   "cell_type": "markdown",
   "id": "f773a8d9",
   "metadata": {},
   "source": [
    "**Let's calculate the average and the median of the Katz of the graph**"
   ]
  },
  {
   "cell_type": "code",
   "execution_count": 112,
   "id": "39df45ac",
   "metadata": {},
   "outputs": [
    {
     "name": "stdout",
     "output_type": "stream",
     "text": [
      "Average of Katz centrality values: 0.02973527153206457\n",
      "Median of Katz centrality values: 0.020963591856019457\n"
     ]
    }
   ],
   "source": [
    "average_katz_values = np.mean(katz_values)\n",
    "median_katz_values = np.median(katz_values)\n",
    "print(f\"Average of Katz centrality values: {average_katz_values}\")\n",
    "print(f\"Median of Katz centrality values: {median_katz_values}\")"
   ]
  },
  {
   "cell_type": "markdown",
   "id": "007c605b",
   "metadata": {},
   "source": [
    "**Displaying the Page rank representation of the Graph**"
   ]
  },
  {
   "cell_type": "code",
   "execution_count": 107,
   "id": "6d05e6b2",
   "metadata": {},
   "outputs": [
    {
     "name": "stdout",
     "output_type": "stream",
     "text": [
      "Warning: When  cdn_resources is 'local' jupyter notebook has issues displaying graphics on chrome/safari. Use cdn_resources='in_line' or cdn_resources='remote' if you have issues viewing graphics in a notebook.\n",
      "pagerank1.html\n"
     ]
    },
    {
     "data": {
      "text/html": [
       "\n",
       "        <iframe\n",
       "            width=\"100%\"\n",
       "            height=\"800px\"\n",
       "            src=\"pagerank1.html\"\n",
       "            frameborder=\"0\"\n",
       "            allowfullscreen\n",
       "            \n",
       "        ></iframe>\n",
       "        "
      ],
      "text/plain": [
       "<IPython.lib.display.IFrame at 0x14f9b5310>"
      ]
     },
     "execution_count": 107,
     "metadata": {},
     "output_type": "execute_result"
    }
   ],
   "source": [
    "pyvis_graph = Network(height=\"800px\", width=\"100%\", notebook=True)\n",
    "\n",
    "for node, pagerank_value in pagerank.items():\n",
    "    node_id = str(node)\n",
    "    pyvis_graph.add_node(node_id, title=f\"PageRank: {pagerank_value}\")\n",
    "\n",
    "for edge in graph_api.edges():\n",
    "    pyvis_graph.add_edge(str(edge[0]), str(edge[1]))\n",
    "\n",
    "\n",
    "pyvis_graph.show(\"pagerank1.html\")"
   ]
  },
  {
   "cell_type": "markdown",
   "id": "32779cc9",
   "metadata": {},
   "source": [
    "# Part 2\n",
    "\n",
    "### Constructing the graph using only the Nodes interconnected between the Author of the post and the authors of the comments on the post and also the replies on each comment"
   ]
  },
  {
   "cell_type": "markdown",
   "id": "586f0a62",
   "metadata": {},
   "source": [
    "### This increasing the connectivity between the nodes and a high ratio of increment in the edges between the nodes"
   ]
  },
  {
   "cell_type": "code",
   "execution_count": 20,
   "id": "735ac549",
   "metadata": {},
   "outputs": [
    {
     "name": "stdout",
     "output_type": "stream",
     "text": [
      "Author: Felkalin\n",
      "Title: Censorship has gone too far\n",
      "\n",
      "\n",
      "Author: JohnnyFire\n",
      "Title: UPDATE: Kelly Blazek, Cleveland Job Bank Founder who rebuked LinkedIn requests with nasty emails, has lost her IABC Communicator of the Year Award\n",
      "\n",
      "\n",
      "Author: SXSWBot\n",
      "Title: Burger King uses 50cent to promote his new BKCoffee !\n",
      "\n",
      "\n",
      "Author: curveballhomerun\n",
      "Title: Freelance Social Media? Two things I did that my clients loved (you can download them.)\n",
      "\n",
      "\n",
      "Author: froggie5ohhhhh\n",
      "Title: 10 Minute Tweaks To Improve your Social/Digital Media TODAY (on any social platform)\n",
      "\n",
      "\n",
      "Author: SebastianJuhola\n",
      "Title: How I grew an Instagram account from 4000 followers to 190k in a year\n",
      "\n",
      "\n",
      "Author: lazymentors\n",
      "Title: I interviewed 3 Instagram Employees & Studied 2,000+ Posts. Here’s How Instagram algorithm works in 2022!\n",
      "\n",
      "\n",
      "Author: DedicatedSloth\n",
      "Title: I was wrong, Tik Tok isn't all dances, lip syncs, and jokes. It's been a major supportive outlet for dealing with mental health and depression.\n",
      "\n",
      "\n",
      "Author: hinba\n",
      "Title: Reddit surpasses Facebook to become the 3rd most visited site in the US\n",
      "\n",
      "\n",
      "Author: QuantumQuill12\n",
      "Title: I Grew to 100K on Instagram in 30 Days. Observations.\n",
      "\n",
      "\n",
      "Author: zshakked\n",
      "Title: 20 Ideas for Instagram Stories Content\n",
      "\n",
      "\n",
      "Author: None\n",
      "Title: I need your feedback 💬\n",
      "\n",
      "\n",
      "Author: lazymentors\n",
      "Title: I Studied Instagram, Pinterest, LinkedIn & TikTok’s Algorithm, Here’s What I learned!\n",
      "\n",
      "\n",
      "Author: Killzooski\n",
      "Title: Is X dying?\n",
      "\n",
      "\n",
      "Author: ArdrianEmily\n",
      "Title: “If you make customers unhappy in the physical world, they might each tell 6 friends. If you make customers unhappy on the Internet, they can each tell 6,000 friends.” Jeff Bezos, CEO at Amazon.com\n",
      "\n",
      "\n",
      "Author: ZachPaj\n",
      "Title: Facebook has implemented a 'Fact Checker' tool which warns users of fake news\n",
      "\n",
      "\n",
      "Author: lazymentors\n",
      "Title: Social is dead; only media left.\n",
      "\n",
      "\n",
      "Author: JonODonovan\n",
      "Title: All new posts need a flair going forward\n",
      "\n",
      "\n",
      "Author: Kris_Luc\n",
      "Title: Has anyone stopped calling Twitter “Twitter” and referring to it as “X” now?\n",
      "\n",
      "\n",
      "Author: maxthescribbler\n",
      "Title: 8 LinkedIn tactics that really worked for us—and 5 that didn't\n",
      "\n",
      "\n",
      "Author: MassimoOsti\n",
      "Title: Facebook couldn't figure out that Russians spent $100K to spread fake election news but disapproves my ad because it contains a small amount of text\n",
      "\n",
      "\n",
      "Author: TenDeadGoats\n",
      "Title: Bring back chronologically ordered Instagram feeds.\n",
      "\n",
      "\n",
      "Author: None\n",
      "Title: This sub is useless.\n",
      "\n",
      "\n",
      "Author: zshakked\n",
      "Title: I found it really difficult to find good hashtags to use on my Instagram page (19.3k followers) so I built this iPhone app that uses intelligent, algorithmic analysis to find you related hashtags. I think you guys would find it useful.\n",
      "\n",
      "\n",
      "Author: Rugby_Riot\n",
      "Title: Hashtags on FB are dead, 3 minute videos are prioritised, according to senior FB rep\n",
      "\n",
      "\n",
      "Author: BennySkateboard\n",
      "Title: What has just happened to Instagram?\n",
      "\n",
      "\n",
      "Author: zecariocaxbox\n",
      "Title: Instagram is ending the \"like\" system in Canada, Brazil and Australia.\n",
      "\n",
      "\n",
      "Author: zshakked\n",
      "Title: Instagram is preparing to let you add music to your Stories via a \"Music Sticker\" that will let you search for tracks\n",
      "\n",
      "\n",
      "Author: gf11speed\n",
      "Title: [Cool Find] - Alternative to Socialblade for Instagram\n",
      "\n",
      "\n",
      "Author: Mendokusai\n",
      "Title: StumbleUpon Shuts Down After 16 Years\n",
      "\n",
      "\n",
      "Author: RedditBizHelper\n",
      "Title: HOW TO GET INSTAGRAM CONTENT IDEAS FOR YOUR SMALL BUSINESS — TAKE A LOOK EVEN IF YOU DON'T USE IG\n",
      "\n",
      "\n",
      "Author: EuforijaKg\n",
      "Title: Ultimate Instagram Hashtag Guide & Strategy [I've covered EVERYTHING]\n",
      "\n",
      "\n",
      "Author: shekatnew\n",
      "Title: Don't you have the impression LinkedIn is turning a little into Facebook in many ways? Not talking about technicalities like algorithm and such. I mean the very topics posted and the way they are handled..\n",
      "\n",
      "\n",
      "Author: razmig\n",
      "Title: Twitter to stop all political advertising globally... - Jack Dorsey\n",
      "\n",
      "\n",
      "Author: lazymentors\n",
      "Title: I read privacy and policies of Tiktok, IG and Other Platforms. Here’s what I learned about Social Media Platforms!\n",
      "\n",
      "\n",
      "Author: Competitive_Egg4757\n",
      "Title: Small rant\n",
      "\n",
      "\n",
      "Author: intheaterssoon\n",
      "Title: What's the secret to getting verified on instagram?\n",
      "\n",
      "\n",
      "Author: climbonapply24head\n",
      "Title: Facebook and instagram down(30 min and counting) after a morning of a huge release of documents and news stories.\n",
      "\n",
      "\n",
      "Author: joeyoungblood\n",
      "Title: Facebook's Algorithm Is Changing, Here's What That Looks Like Right Now\n",
      "\n",
      "\n",
      "Author: lazymentors\n",
      "Title: Here’s What Happened On Social Media in August 2022 (Marketer’s Edition)\n",
      "\n",
      "\n",
      "Author: roscoepain\n",
      "Title: Social Media is a double-edged sword.\n",
      "\n",
      "\n",
      "Author: suitzup\n",
      "Title: How I got 5000 Followers on Instagram in 2 months!\n",
      "\n",
      "\n",
      "Author: atiqi36\n",
      "Title: 1.38 million Posts analysed - what works on Facebook\n",
      "\n",
      "\n",
      "Author: ZoliroAstro\n",
      "Title: The \"algorithms\" are ruining creativity.\n",
      "\n",
      "\n",
      "Author: lazymentors\n",
      "Title: Here’s What Happened Last Week On Social Media (Marketer’s Edition)\n",
      "\n",
      "\n",
      "Author: talitarhein\n",
      "Title: I hate when brands give up on their websites to use only their Facebook Page as the website\n",
      "\n",
      "\n",
      "Author: Kabinetapp\n",
      "Title: Is being an \"influencer\" played out? I work at a tech startup so we deal with influencers but the quality has dropped in the last few years. I feel as though the whole world is trying to \"influence\" when in reality they have very little to offer in experience or expertise.\n",
      "\n",
      "\n",
      "Author: froggie5ohhhhh\n",
      "Title: HARSH REALITY OF SOCIAL MEDIA (this took me a long time to understand)\n",
      "\n",
      "\n",
      "Author: Yolofreelance\n",
      "Title: The rise of the quizzes: According to some surveys, the average quiz has a 31.6% lead capture rate, and it’s shared nearly 2000 times. That is higher than any other kind of Social Media post.\n",
      "\n",
      "\n",
      "Author: instawithalex\n",
      "Title: I have a following of over 450k on Instagram and made over $160k in revenue this year with the app - AMA\n",
      "\n",
      "\n"
     ]
    }
   ],
   "source": [
    "subreddit = reddit.subreddit('socialmedia')\n",
    "\n",
    "nodes = []\n",
    "authors = []\n",
    "\n",
    "def populating_data_with_more_comments(g, comment, parent_author):\n",
    "    if comment.author is not None:\n",
    "        if comment.author not in authors:\n",
    "            authors.append(comment.author)\n",
    "\n",
    "        temp = [parent_author, comment.author]\n",
    "\n",
    "        for reply in comment.replies.list():\n",
    "            if isinstance(reply, praw.models.MoreComments):\n",
    "                continue\n",
    "\n",
    "            populating_data_with_more_comments(g, reply, comment.author)\n",
    "        nodes.append(temp)\n",
    "\n",
    "g = nx.Graph()\n",
    "\n",
    "submissions = subreddit.top(limit=50)\n",
    "\n",
    "for post in submissions:\n",
    "    print(f\"Author: {post.author}\\nTitle: {post.title}\\n\\n\")\n",
    "    if post.author is not None:\n",
    "        if post.author not in authors:\n",
    "            authors.append(post.author)\n",
    "\n",
    "    post.comment_limit = 20\n",
    "    for comment in post.comments.list():\n",
    "        if isinstance(comment, praw.models.MoreComments):\n",
    "            continue\n",
    "        populating_data_with_more_comments(g, comment, post.author)\n",
    "\n"
   ]
  },
  {
   "cell_type": "code",
   "execution_count": 21,
   "id": "84aaf216",
   "metadata": {},
   "outputs": [
    {
     "data": {
      "text/plain": [
       "[Redditor(name='Felkalin'),\n",
       " Redditor(name='AutoModerator'),\n",
       " Redditor(name='SonofaBranMuffin'),\n",
       " Redditor(name='blue_strawberryx'),\n",
       " Redditor(name='zenware'),\n",
       " Redditor(name='dragonsapphic'),\n",
       " Redditor(name='chjesper'),\n",
       " Redditor(name='Moist_Confusion'),\n",
       " Redditor(name='niooosan'),\n",
       " Redditor(name='IAmBabs')]"
      ]
     },
     "execution_count": 21,
     "metadata": {},
     "output_type": "execute_result"
    }
   ],
   "source": [
    "nodes[:10]\n",
    "\n",
    "authors[:10]"
   ]
  },
  {
   "cell_type": "code",
   "execution_count": 22,
   "id": "b28f7968",
   "metadata": {},
   "outputs": [
    {
     "data": {
      "text/html": [
       "<div>\n",
       "<style scoped>\n",
       "    .dataframe tbody tr th:only-of-type {\n",
       "        vertical-align: middle;\n",
       "    }\n",
       "\n",
       "    .dataframe tbody tr th {\n",
       "        vertical-align: top;\n",
       "    }\n",
       "\n",
       "    .dataframe thead th {\n",
       "        text-align: right;\n",
       "    }\n",
       "</style>\n",
       "<table border=\"1\" class=\"dataframe\">\n",
       "  <thead>\n",
       "    <tr style=\"text-align: right;\">\n",
       "      <th></th>\n",
       "      <th>Author</th>\n",
       "      <th>Commentor</th>\n",
       "    </tr>\n",
       "  </thead>\n",
       "  <tbody>\n",
       "    <tr>\n",
       "      <th>0</th>\n",
       "      <td>Felkalin</td>\n",
       "      <td>AutoModerator</td>\n",
       "    </tr>\n",
       "    <tr>\n",
       "      <th>1</th>\n",
       "      <td>blue_strawberryx</td>\n",
       "      <td>zenware</td>\n",
       "    </tr>\n",
       "    <tr>\n",
       "      <th>2</th>\n",
       "      <td>zenware</td>\n",
       "      <td>blue_strawberryx</td>\n",
       "    </tr>\n",
       "    <tr>\n",
       "      <th>3</th>\n",
       "      <td>zenware</td>\n",
       "      <td>dragonsapphic</td>\n",
       "    </tr>\n",
       "    <tr>\n",
       "      <th>4</th>\n",
       "      <td>zenware</td>\n",
       "      <td>zenware</td>\n",
       "    </tr>\n",
       "  </tbody>\n",
       "</table>\n",
       "</div>"
      ],
      "text/plain": [
       "             Author         Commentor\n",
       "0          Felkalin     AutoModerator\n",
       "1  blue_strawberryx           zenware\n",
       "2           zenware  blue_strawberryx\n",
       "3           zenware     dragonsapphic\n",
       "4           zenware           zenware"
      ]
     },
     "execution_count": 22,
     "metadata": {},
     "output_type": "execute_result"
    }
   ],
   "source": [
    "nodedf = pd.DataFrame(nodes, columns=['Author', 'Commentor']).dropna()\n",
    "\n",
    "nodedf.head()"
   ]
  },
  {
   "cell_type": "code",
   "execution_count": 23,
   "id": "13bf0141",
   "metadata": {},
   "outputs": [
    {
     "name": "stdout",
     "output_type": "stream",
     "text": [
      "Nodes: 598\n",
      "Edges: 836\n"
     ]
    }
   ],
   "source": [
    "graph_api = nx.from_pandas_edgelist(nodedf, source=\"Author\", target=\"Commentor\")\n",
    "\n",
    "graph_api\n",
    "\n",
    "print(f\"Nodes: {len(graph_api.nodes())}\\nEdges: {len(graph_api.edges())}\")"
   ]
  },
  {
   "cell_type": "code",
   "execution_count": 24,
   "id": "fa2df18f",
   "metadata": {},
   "outputs": [
    {
     "name": "stdout",
     "output_type": "stream",
     "text": [
      "Warning: When  cdn_resources is 'local' jupyter notebook has issues displaying graphics on chrome/safari. Use cdn_resources='in_line' or cdn_resources='remote' if you have issues viewing graphics in a notebook.\n",
      "pyvis_network.html\n"
     ]
    },
    {
     "data": {
      "text/html": [
       "\n",
       "        <iframe\n",
       "            width=\"100%\"\n",
       "            height=\"750px\"\n",
       "            src=\"pyvis_network.html\"\n",
       "            frameborder=\"0\"\n",
       "            allowfullscreen\n",
       "            \n",
       "        ></iframe>\n",
       "        "
      ],
      "text/plain": [
       "<IPython.lib.display.IFrame at 0x146dd8b90>"
      ]
     },
     "execution_count": 24,
     "metadata": {},
     "output_type": "execute_result"
    }
   ],
   "source": [
    "g_pyvis = Network(height=\"750px\", width=\"100%\", bgcolor=\"#222222\", font_color=\"white\", notebook=True)\n",
    "\n",
    "for node in graph_api.nodes():\n",
    "    g_pyvis.add_node(str(node))\n",
    "\n",
    "for edge in graph_api.edges():\n",
    "    g_pyvis.add_edge(str(edge[0]), str(edge[1]))\n",
    "\n",
    "g_pyvis.show(\"pyvis_network.html\")"
   ]
  },
  {
   "cell_type": "code",
   "execution_count": 25,
   "id": "96961b50",
   "metadata": {},
   "outputs": [
    {
     "data": {
      "image/png": "[encoded data removed]",
      "text/plain": [
       "<Figure size 640x480 with 1 Axes>"
      ]
     },
     "metadata": {},
     "output_type": "display_data"
    }
   ],
   "source": [
    "degree_sequence = [d for n, d in graph_api.degree()]\n",
    "degree_histogram = nx.degree_histogram(graph_api)\n",
    "\n",
    "plt.hist(degree_sequence, bins=range(max(degree_sequence)))\n",
    "plt.xlabel(\"Degree\")\n",
    "plt.ylabel(\"Frequency\")\n",
    "plt.title(\"Degree Distribution Histogram\")\n",
    "plt.show()\n"
   ]
  },
  {
   "cell_type": "code",
   "execution_count": 26,
   "id": "45943637",
   "metadata": {},
   "outputs": [
    {
     "name": "stdout",
     "output_type": "stream",
     "text": [
      "Clustering Coefficient: 0.31406727702412124\n"
     ]
    }
   ],
   "source": [
    "average_clustering = nx.average_clustering(graph_api)\n",
    "print(f\"Clustering Coefficient: {average_clustering}\")"
   ]
  },
  {
   "cell_type": "code",
   "execution_count": 27,
   "id": "c6489a3f",
   "metadata": {},
   "outputs": [
    {
     "data": {
      "image/png": "[encoded data removed]",
      "text/plain": [
       "<Figure size 640x480 with 1 Axes>"
      ]
     },
     "metadata": {},
     "output_type": "display_data"
    }
   ],
   "source": [
    "closeness_centrality = nx.closeness_centrality(graph_api)\n",
    "\n",
    "plt.hist(list(closeness_centrality.values()), bins=20)\n",
    "plt.xlabel('Closeness Centrality Value')\n",
    "plt.ylabel('Frequency')\n",
    "plt.title('Closeness Centrality Distribution')\n",
    "plt.show()\n"
   ]
  },
  {
   "cell_type": "code",
   "execution_count": 28,
   "id": "bdf7cfdb",
   "metadata": {},
   "outputs": [
    {
     "name": "stdout",
     "output_type": "stream",
     "text": [
      "Average Closeness Centrality: 0.11941175748498303\n",
      "Median Closeness Centrality: 0.1437622167599265\n"
     ]
    }
   ],
   "source": [
    "average = sum(closeness_centrality.values())/len(closeness_centrality)\n",
    "median = sorted(closeness_centrality.values())[len(closeness_centrality)//2]\n",
    "print(f\"Average Closeness Centrality: {average}\")\n",
    "print(f\"Median Closeness Centrality: {median}\")"
   ]
  },
  {
   "cell_type": "code",
   "execution_count": 29,
   "id": "80e6a121",
   "metadata": {},
   "outputs": [
    {
     "data": {
      "image/png": "[encoded data removed]",
      "text/plain": [
       "<Figure size 640x480 with 1 Axes>"
      ]
     },
     "metadata": {},
     "output_type": "display_data"
    }
   ],
   "source": [
    "degree_centrality = nx.degree_centrality(graph_api)\n",
    "\n",
    "plt.hist(list(degree_centrality.values()), bins=20)\n",
    "plt.xlabel('Degree Centrality')\n",
    "plt.ylabel('Frequency')\n",
    "plt.title('Degree Centrality Measure Histogram')\n",
    "plt.show()"
   ]
  },
  {
   "cell_type": "code",
   "execution_count": 30,
   "id": "7422a388",
   "metadata": {},
   "outputs": [
    {
     "name": "stdout",
     "output_type": "stream",
     "text": [
      "Average Degree Centrality: 0.004683394676840166\n",
      "Median Degree Centrality: 0.0016750418760469012\n"
     ]
    }
   ],
   "source": [
    "mean_degree_centrality = np.mean(list(degree_centrality.values()))\n",
    "median_degree_centrality = np.median(list(degree_centrality.values()))\n",
    "\n",
    "print(f\"Average Degree Centrality: {mean_degree_centrality}\")\n",
    "print(f\"Median Degree Centrality: {median_degree_centrality}\")\n",
    "\n"
   ]
  },
  {
   "cell_type": "code",
   "execution_count": 31,
   "id": "e2605b2b",
   "metadata": {},
   "outputs": [
    {
     "data": {
      "image/png": "[encoded data removed]",
      "text/plain": [
       "<Figure size 640x480 with 1 Axes>"
      ]
     },
     "metadata": {},
     "output_type": "display_data"
    }
   ],
   "source": [
    "betweenness_centrality = nx.betweenness_centrality(graph_api)\n",
    "\n",
    "plt.hist(list(betweenness_centrality.values()), bins=50)\n",
    "plt.xlabel(\"Betweenness Centrality\")\n",
    "plt.ylabel(\"Frequency\")\n",
    "plt.title(\"Betweenness Centrality Histogram\")\n",
    "plt.show()\n",
    "\n"
   ]
  },
  {
   "cell_type": "code",
   "execution_count": 32,
   "id": "f0103ccb",
   "metadata": {},
   "outputs": [
    {
     "name": "stdout",
     "output_type": "stream",
     "text": [
      "Average Betweenness Centrality: 0.006445927797652865\n",
      "Median Betweenness Centrality: 0.0\n"
     ]
    }
   ],
   "source": [
    "average = sum(betweenness_centrality.values())/len(betweenness_centrality)\n",
    "median = sorted(betweenness_centrality.values())[len(betweenness_centrality)//2]\n",
    "print(f\"Average Betweenness Centrality: {average}\")\n",
    "print(f\"Median Betweenness Centrality: {median}\")\n",
    "\n"
   ]
  },
  {
   "cell_type": "code",
   "execution_count": 33,
   "id": "cf3dfb82",
   "metadata": {},
   "outputs": [
    {
     "data": {
      "image/png": "[encoded data removed]",
      "text/plain": [
       "<Figure size 640x480 with 1 Axes>"
      ]
     },
     "metadata": {},
     "output_type": "display_data"
    }
   ],
   "source": [
    "katz_centrality = nx.katz_centrality(graph_api)\n",
    "katz_values = list(katz_centrality.values())\n",
    "\n",
    "plt.hist(katz_values, bins=20)\n",
    "plt.xlabel(\"Katz Centrality\")\n",
    "plt.ylabel(\"Frequency\")\n",
    "plt.title(\"Katz Centrality Histogram\")\n",
    "plt.show()\n",
    "\n"
   ]
  },
  {
   "cell_type": "code",
   "execution_count": 34,
   "id": "b7683b8e",
   "metadata": {},
   "outputs": [
    {
     "name": "stdout",
     "output_type": "stream",
     "text": [
      "Average of Katz centrality values: 0.027935640188774168\n",
      "Median of Katz centrality values: 0.01841834023846006\n"
     ]
    }
   ],
   "source": [
    "average = np.mean(katz_values)\n",
    "median = np.median(katz_values)\n",
    "print(f\"Average of Katz centrality values: {average}\")\n",
    "print(f\"Median of Katz centrality values: {median}\")\n",
    "\n"
   ]
  },
  {
   "cell_type": "code",
   "execution_count": 47,
   "id": "294dd5c6",
   "metadata": {},
   "outputs": [
    {
     "name": "stdout",
     "output_type": "stream",
     "text": [
      "pagerank2.html\n"
     ]
    }
   ],
   "source": [
    "pyvis_graph = Network(height=\"800px\", width=\"100%\", notebook=True)\n",
    "\n",
    "for node, pagerank_value in pagerank.items():\n",
    "    node_id = str(node)\n",
    "    pyvis_graph.add_node(node_id, title=f\"PageRank: {pagerank_value}\")\n",
    "\n",
    "for edge in graph_api.edges():\n",
    "    pyvis_graph.add_edge(str(edge[0]), str(edge[1]))\n",
    "\n",
    "pyvis_graph.barnes_hut()\n",
    "\n",
    "pyvis_graph.show(\"pagerank2.html\")"
   ]
  },
  {
   "cell_type": "code",
   "execution_count": null,
   "id": "e64d70ec",
   "metadata": {},
   "outputs": [],
   "source": []
  }
 ],
 "metadata": {
  "kernelspec": {
   "display_name": "Python 3 (ipykernel)",
   "language": "python",
   "name": "python3"
  },
  "language_info": {
   "codemirror_mode": {
    "name": "ipython",
    "version": 3
   },
   "file_extension": ".py",
   "mimetype": "text/x-python",
   "name": "python",
   "nbconvert_exporter": "python",
   "pygments_lexer": "ipython3",
   "version": "3.11.4"
  }
 },
 "nbformat": 4,
 "nbformat_minor": 5
}
