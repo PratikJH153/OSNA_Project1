{
 "cells": [
  {
   "cell_type": "code",
   "execution_count": 7,
   "id": "344cabcf",
   "metadata": {},
   "outputs": [
    {
     "name": "stdout",
     "output_type": "stream",
     "text": [
      "Requirement already satisfied: praw in /opt/homebrew/lib/python3.11/site-packages (7.7.1)\r\n",
      "Requirement already satisfied: prawcore<3,>=2.1 in /opt/homebrew/lib/python3.11/site-packages (from praw) (2.4.0)\r\n",
      "Requirement already satisfied: update-checker>=0.18 in /opt/homebrew/lib/python3.11/site-packages (from praw) (0.18.0)\r\n",
      "Requirement already satisfied: websocket-client>=0.54.0 in /opt/homebrew/lib/python3.11/site-packages (from praw) (1.7.0)\r\n",
      "Requirement already satisfied: requests<3.0,>=2.6.0 in /opt/homebrew/lib/python3.11/site-packages (from prawcore<3,>=2.1->praw) (2.31.0)\r\n",
      "Requirement already satisfied: charset-normalizer<4,>=2 in /opt/homebrew/lib/python3.11/site-packages (from requests<3.0,>=2.6.0->prawcore<3,>=2.1->praw) (3.3.2)\r\n",
      "Requirement already satisfied: idna<4,>=2.5 in /opt/homebrew/lib/python3.11/site-packages (from requests<3.0,>=2.6.0->prawcore<3,>=2.1->praw) (3.6)\r\n",
      "Requirement already satisfied: urllib3<3,>=1.21.1 in /opt/homebrew/lib/python3.11/site-packages (from requests<3.0,>=2.6.0->prawcore<3,>=2.1->praw) (2.1.0)\r\n",
      "Requirement already satisfied: certifi>=2017.4.17 in /opt/homebrew/lib/python3.11/site-packages (from requests<3.0,>=2.6.0->prawcore<3,>=2.1->praw) (2023.11.17)\r\n"
     ]
    }
   ],
   "source": [
    "!pip install praw"
   ]
  },
  {
   "cell_type": "code",
   "execution_count": 92,
   "id": "e82dc158",
   "metadata": {},
   "outputs": [],
   "source": [
    "import praw\n",
    "import networkx as nx\n",
    "import pandas as pd\n",
    "import matplotlib.pyplot as plt\n",
    "import numpy as np\n",
    "import statistics"
   ]
  },
  {
   "cell_type": "code",
   "execution_count": 93,
   "id": "2320368a",
   "metadata": {},
   "outputs": [],
   "source": [
    "from pyvis.network import Network"
   ]
  },
  {
   "cell_type": "code",
   "execution_count": 140,
   "id": "e478af4d",
   "metadata": {},
   "outputs": [],
   "source": [
    "reddit = praw.Reddit(client_id='hhjRhxhEn6ZNdJJCkUd8TQ',\n",
    "                     client_secret='WKVxcma6auPs8A5ghaj7CWmh2zDAEg',\n",
    "                     username='Either-Two-1843',\n",
    "                     password='Shree_123456',\n",
    "                     user_agent='Project1_OSNA')"
   ]
  },
  {
   "cell_type": "code",
   "execution_count": 141,
   "id": "1d46208f",
   "metadata": {},
   "outputs": [],
   "source": [
    "subreddit = reddit.subreddit('socialmedia')\n",
    "set_comment_limit = 20\n",
    "\n",
    "nodeData = []\n",
    "authorData = []"
   ]
  },
  {
   "cell_type": "code",
   "execution_count": 142,
   "id": "02a28412",
   "metadata": {},
   "outputs": [],
   "source": [
    "def recursive_node_adder(g, comment, parent_author):\n",
    "    nodeItem = []\n",
    "    if comment.author is not None:\n",
    "        if comment.author not in authorData:\n",
    "            authorData.append(comment.author)\n",
    "\n",
    "        nodeItem.append(parent_author)\n",
    "        nodeItem.append(comment.author)\n",
    "\n",
    "        for reply in comment.replies.list():\n",
    "            if isinstance(reply, praw.models.MoreComments):\n",
    "                continue\n",
    "\n",
    "            recursive_node_adder(g, reply, comment.author)\n",
    "        nodeData.append(nodeItem)"
   ]
  },
  {
   "cell_type": "code",
   "execution_count": 143,
   "id": "bcfe90c0",
   "metadata": {},
   "outputs": [],
   "source": [
    "g = nx.Graph()\n",
    "\n",
    "submissions = subreddit.top(limit=50)"
   ]
  },
  {
   "cell_type": "code",
   "execution_count": 144,
   "id": "f38feef5",
   "metadata": {},
   "outputs": [
    {
     "name": "stdout",
     "output_type": "stream",
     "text": [
      "Felkalin - Censorship has gone too far\n",
      "JohnnyFire - UPDATE: Kelly Blazek, Cleveland Job Bank Founder who rebuked LinkedIn requests with nasty emails, has lost her IABC Communicator of the Year Award\n",
      "SXSWBot - Burger King uses 50cent to promote his new BKCoffee !\n",
      "curveballhomerun - Freelance Social Media? Two things I did that my clients loved (you can download them.)\n",
      "froggie5ohhhhh - 10 Minute Tweaks To Improve your Social/Digital Media TODAY (on any social platform)\n",
      "SebastianJuhola - How I grew an Instagram account from 4000 followers to 190k in a year\n",
      "lazymentors - I interviewed 3 Instagram Employees & Studied 2,000+ Posts. Here’s How Instagram algorithm works in 2022!\n",
      "DedicatedSloth - I was wrong, Tik Tok isn't all dances, lip syncs, and jokes. It's been a major supportive outlet for dealing with mental health and depression.\n",
      "hinba - Reddit surpasses Facebook to become the 3rd most visited site in the US\n",
      "QuantumQuill12 - I Grew to 100K on Instagram in 30 Days. Observations.\n",
      "zshakked - 20 Ideas for Instagram Stories Content\n",
      "None - I need your feedback 💬\n",
      "lazymentors - I Studied Instagram, Pinterest, LinkedIn & TikTok’s Algorithm, Here’s What I learned!\n",
      "Killzooski - Is X dying?\n",
      "ArdrianEmily - “If you make customers unhappy in the physical world, they might each tell 6 friends. If you make customers unhappy on the Internet, they can each tell 6,000 friends.” Jeff Bezos, CEO at Amazon.com\n",
      "ZachPaj - Facebook has implemented a 'Fact Checker' tool which warns users of fake news\n",
      "lazymentors - Social is dead; only media left.\n",
      "JonODonovan - All new posts need a flair going forward\n",
      "maxthescribbler - 8 LinkedIn tactics that really worked for us—and 5 that didn't\n",
      "Kris_Luc - Has anyone stopped calling Twitter “Twitter” and referring to it as “X” now?\n",
      "MassimoOsti - Facebook couldn't figure out that Russians spent $100K to spread fake election news but disapproves my ad because it contains a small amount of text\n",
      "None - This sub is useless.\n",
      "TenDeadGoats - Bring back chronologically ordered Instagram feeds.\n",
      "zshakked - I found it really difficult to find good hashtags to use on my Instagram page (19.3k followers) so I built this iPhone app that uses intelligent, algorithmic analysis to find you related hashtags. I think you guys would find it useful.\n",
      "Rugby_Riot - Hashtags on FB are dead, 3 minute videos are prioritised, according to senior FB rep\n",
      "BennySkateboard - What has just happened to Instagram?\n",
      "zecariocaxbox - Instagram is ending the \"like\" system in Canada, Brazil and Australia.\n",
      "zshakked - Instagram is preparing to let you add music to your Stories via a \"Music Sticker\" that will let you search for tracks\n",
      "gf11speed - [Cool Find] - Alternative to Socialblade for Instagram\n",
      "Mendokusai - StumbleUpon Shuts Down After 16 Years\n",
      "RedditBizHelper - HOW TO GET INSTAGRAM CONTENT IDEAS FOR YOUR SMALL BUSINESS — TAKE A LOOK EVEN IF YOU DON'T USE IG\n",
      "EuforijaKg - Ultimate Instagram Hashtag Guide & Strategy [I've covered EVERYTHING]\n",
      "shekatnew - Don't you have the impression LinkedIn is turning a little into Facebook in many ways? Not talking about technicalities like algorithm and such. I mean the very topics posted and the way they are handled..\n",
      "razmig - Twitter to stop all political advertising globally... - Jack Dorsey\n",
      "lazymentors - I read privacy and policies of Tiktok, IG and Other Platforms. Here’s what I learned about Social Media Platforms!\n",
      "intheaterssoon - What's the secret to getting verified on instagram?\n",
      "Competitive_Egg4757 - Small rant\n",
      "climbonapply24head - Facebook and instagram down(30 min and counting) after a morning of a huge release of documents and news stories.\n",
      "joeyoungblood - Facebook's Algorithm Is Changing, Here's What That Looks Like Right Now\n",
      "lazymentors - Here’s What Happened On Social Media in August 2022 (Marketer’s Edition)\n",
      "roscoepain - Social Media is a double-edged sword.\n",
      "suitzup - How I got 5000 Followers on Instagram in 2 months!\n",
      "atiqi36 - 1.38 million Posts analysed - what works on Facebook\n",
      "ZoliroAstro - The \"algorithms\" are ruining creativity.\n",
      "lazymentors - Here’s What Happened Last Week On Social Media (Marketer’s Edition)\n",
      "talitarhein - I hate when brands give up on their websites to use only their Facebook Page as the website\n",
      "Kabinetapp - Is being an \"influencer\" played out? I work at a tech startup so we deal with influencers but the quality has dropped in the last few years. I feel as though the whole world is trying to \"influence\" when in reality they have very little to offer in experience or expertise.\n",
      "froggie5ohhhhh - HARSH REALITY OF SOCIAL MEDIA (this took me a long time to understand)\n",
      "Yolofreelance - The rise of the quizzes: According to some surveys, the average quiz has a 31.6% lead capture rate, and it’s shared nearly 2000 times. That is higher than any other kind of Social Media post.\n",
      "instawithalex - I have a following of over 450k on Instagram and made over $160k in revenue this year with the app - AMA\n"
     ]
    }
   ],
   "source": [
    "for post in submissions:\n",
    "    print(post.author, \"-\", post.title)\n",
    "    if post.author is not None:\n",
    "        if post.author not in authorData:\n",
    "            authorData.append(post.author)\n",
    "\n",
    "    post.comment_limit = set_comment_limit\n",
    "    for comment in post.comments.list():\n",
    "        if isinstance(comment, praw.models.MoreComments):\n",
    "            continue\n",
    "        recursive_node_adder(g, comment, post.author)"
   ]
  },
  {
   "cell_type": "code",
   "execution_count": 145,
   "id": "f35ff17f",
   "metadata": {},
   "outputs": [
    {
     "name": "stdout",
     "output_type": "stream",
     "text": [
      "\n",
      "Data:\n",
      "                Source            Target\n",
      "0            Felkalin     AutoModerator\n",
      "1    blue_strawberryx           zenware\n",
      "2             zenware  blue_strawberryx\n",
      "3             zenware     dragonsapphic\n",
      "4             zenware           zenware\n",
      "..                ...               ...\n",
      "195   SebastianJuhola     AutoModerator\n",
      "196       johnmflores   SebastianJuhola\n",
      "197   SebastianJuhola       johnmflores\n",
      "198       instantzach   SebastianJuhola\n",
      "199   SebastianJuhola       instantzach\n",
      "\n",
      "[200 rows x 2 columns] \n",
      "\n",
      "\n"
     ]
    }
   ],
   "source": [
    "nodedf = pd.DataFrame(nodeData, columns=['Source', 'Target']).dropna()\n",
    "nodedf.to_csv(\"nodedata.csv\")\n",
    "print(\"\\nData:\\n\",nodedf.head(200),\"\\n\\n\")"
   ]
  },
  {
   "cell_type": "code",
   "execution_count": 146,
   "id": "4130b5fb",
   "metadata": {},
   "outputs": [],
   "source": [
    "graph_api = nx.from_pandas_edgelist(nodedf, source=\"Source\", target=\"Target\")"
   ]
  },
  {
   "cell_type": "code",
   "execution_count": 147,
   "id": "a6419a63",
   "metadata": {},
   "outputs": [
    {
     "data": {
      "text/plain": [
       "<networkx.classes.graph.Graph at 0x168500190>"
      ]
     },
     "execution_count": 147,
     "metadata": {},
     "output_type": "execute_result"
    }
   ],
   "source": [
    "graph_api"
   ]
  },
  {
   "cell_type": "code",
   "execution_count": 148,
   "id": "a7e29136",
   "metadata": {},
   "outputs": [
    {
     "name": "stdout",
     "output_type": "stream",
     "text": [
      "\n",
      "\n",
      "Count of Nodes & Edges: \n",
      "Nodes: 599 | Edges: 838\n",
      "\n"
     ]
    }
   ],
   "source": [
    "print(f\"\\n\\nCount of Nodes & Edges: \")\n",
    "print(f\"Nodes: {len(graph_api.nodes())} | Edges: {len(graph_api.edges())}\\n\")"
   ]
  },
  {
   "cell_type": "code",
   "execution_count": 149,
   "id": "e9ecb444",
   "metadata": {},
   "outputs": [
    {
     "name": "stdout",
     "output_type": "stream",
     "text": [
      "Warning: When  cdn_resources is 'local' jupyter notebook has issues displaying graphics on chrome/safari. Use cdn_resources='in_line' or cdn_resources='remote' if you have issues viewing graphics in a notebook.\n",
      "pyvis_network.html\n"
     ]
    },
    {
     "data": {
      "text/html": [
       "\n",
       "        <iframe\n",
       "            width=\"100%\"\n",
       "            height=\"750px\"\n",
       "            src=\"pyvis_network.html\"\n",
       "            frameborder=\"0\"\n",
       "            allowfullscreen\n",
       "            \n",
       "        ></iframe>\n",
       "        "
      ],
      "text/plain": [
       "<IPython.lib.display.IFrame at 0x148c24b90>"
      ]
     },
     "execution_count": 149,
     "metadata": {},
     "output_type": "execute_result"
    }
   ],
   "source": [
    "g_pyvis = Network(height=\"750px\", width=\"100%\", bgcolor=\"#222222\", font_color=\"white\", notebook=True)\n",
    "\n",
    "for node in graph_api.nodes():\n",
    "    g_pyvis.add_node(str(node))\n",
    "\n",
    "for edge in graph_api.edges():\n",
    "    g_pyvis.add_edge(str(edge[0]), str(edge[1]))\n",
    "\n",
    "g_pyvis.show(\"pyvis_network.html\")"
   ]
  },
  {
   "cell_type": "code",
   "execution_count": null,
   "id": "a75f9a1c",
   "metadata": {},
   "outputs": [],
   "source": []
  }
 ],
 "metadata": {
  "kernelspec": {
   "display_name": "Python 3 (ipykernel)",
   "language": "python",
   "name": "python3"
  },
  "language_info": {
   "codemirror_mode": {
    "name": "ipython",
    "version": 3
   },
   "file_extension": ".py",
   "mimetype": "text/x-python",
   "name": "python",
   "nbconvert_exporter": "python",
   "pygments_lexer": "ipython3",
   "version": "3.11.4"
  }
 },
 "nbformat": 4,
 "nbformat_minor": 5
}
